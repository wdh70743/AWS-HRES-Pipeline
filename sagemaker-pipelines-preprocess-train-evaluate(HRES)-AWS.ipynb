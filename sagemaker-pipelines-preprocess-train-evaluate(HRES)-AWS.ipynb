{
 "cells": [
  {
   "cell_type": "code",
   "execution_count": 1,
   "id": "0436215f",
   "metadata": {},
   "outputs": [],
   "source": [
    "# !pip install -U sagemaker"
   ]
  },
  {
   "cell_type": "code",
   "execution_count": 2,
   "id": "e16f6efa",
   "metadata": {},
   "outputs": [
    {
     "name": "stderr",
     "output_type": "stream",
     "text": [
      "C:\\Users\\gkthd\\anaconda3\\Lib\\site-packages\\pandas\\core\\arrays\\masked.py:60: UserWarning: Pandas requires version '1.3.6' or newer of 'bottleneck' (version '1.3.5' currently installed).\n",
      "  from pandas.core import (\n"
     ]
    },
    {
     "name": "stdout",
     "output_type": "stream",
     "text": [
      "sagemaker.config INFO - Not applying SDK defaults from location: C:\\ProgramData\\sagemaker\\sagemaker\\config.yaml\n",
      "sagemaker.config INFO - Not applying SDK defaults from location: C:\\Users\\gkthd\\AppData\\Local\\sagemaker\\sagemaker\\config.yaml\n"
     ]
    },
    {
     "name": "stderr",
     "output_type": "stream",
     "text": [
      "Couldn't call 'get_role' to get Role ARN from role name melodyminds to get Role path.\n"
     ]
    },
    {
     "ename": "ValueError",
     "evalue": "The current AWS identity is not a role: arn:aws:iam::381491990157:user/melodyminds, therefore it cannot be used as a SageMaker execution role",
     "output_type": "error",
     "traceback": [
      "\u001b[1;31m---------------------------------------------------------------------------\u001b[0m",
      "\u001b[1;31mValueError\u001b[0m                                Traceback (most recent call last)",
      "Cell \u001b[1;32mIn[2], line 9\u001b[0m\n\u001b[0;32m      5\u001b[0m \u001b[38;5;28;01mimport\u001b[39;00m \u001b[38;5;21;01msagemaker\u001b[39;00m\n\u001b[0;32m      6\u001b[0m \u001b[38;5;28;01mfrom\u001b[39;00m \u001b[38;5;21;01msagemaker\u001b[39;00m\u001b[38;5;21;01m.\u001b[39;00m\u001b[38;5;21;01mworkflow\u001b[39;00m\u001b[38;5;21;01m.\u001b[39;00m\u001b[38;5;21;01mpipeline_context\u001b[39;00m \u001b[38;5;28;01mimport\u001b[39;00m PipelineSession\n\u001b[1;32m----> 9\u001b[0m role \u001b[38;5;241m=\u001b[39m sagemaker\u001b[38;5;241m.\u001b[39mget_execution_role()\n\u001b[0;32m     10\u001b[0m sagemaker_session \u001b[38;5;241m=\u001b[39m sagemaker\u001b[38;5;241m.\u001b[39msession\u001b[38;5;241m.\u001b[39mSession()\n\u001b[0;32m     11\u001b[0m region \u001b[38;5;241m=\u001b[39m sagemaker_session\u001b[38;5;241m.\u001b[39mboto_region_name\n",
      "File \u001b[1;32m~\\anaconda3\\Lib\\site-packages\\sagemaker\\session.py:7739\u001b[0m, in \u001b[0;36mget_execution_role\u001b[1;34m(sagemaker_session, use_default)\u001b[0m\n\u001b[0;32m   7733\u001b[0m     \u001b[38;5;28;01mreturn\u001b[39;00m iam_client\u001b[38;5;241m.\u001b[39mget_role(RoleName\u001b[38;5;241m=\u001b[39mdefault_role_name)[\u001b[38;5;124m\"\u001b[39m\u001b[38;5;124mRole\u001b[39m\u001b[38;5;124m\"\u001b[39m][\u001b[38;5;124m\"\u001b[39m\u001b[38;5;124mArn\u001b[39m\u001b[38;5;124m\"\u001b[39m]\n\u001b[0;32m   7735\u001b[0m message \u001b[38;5;241m=\u001b[39m (\n\u001b[0;32m   7736\u001b[0m     \u001b[38;5;124m\"\u001b[39m\u001b[38;5;124mThe current AWS identity is not a role: \u001b[39m\u001b[38;5;132;01m{}\u001b[39;00m\u001b[38;5;124m, therefore it cannot be used as a \u001b[39m\u001b[38;5;124m\"\u001b[39m\n\u001b[0;32m   7737\u001b[0m     \u001b[38;5;124m\"\u001b[39m\u001b[38;5;124mSageMaker execution role\u001b[39m\u001b[38;5;124m\"\u001b[39m\n\u001b[0;32m   7738\u001b[0m )\n\u001b[1;32m-> 7739\u001b[0m \u001b[38;5;28;01mraise\u001b[39;00m \u001b[38;5;167;01mValueError\u001b[39;00m(message\u001b[38;5;241m.\u001b[39mformat(arn))\n",
      "\u001b[1;31mValueError\u001b[0m: The current AWS identity is not a role: arn:aws:iam::381491990157:user/melodyminds, therefore it cannot be used as a SageMaker execution role"
     ]
    }
   ],
   "source": [
    "# Sagemaker Environment Setting\n",
    "\n",
    "import sys\n",
    "import boto3\n",
    "import sagemaker\n",
    "from sagemaker.workflow.pipeline_context import PipelineSession\n",
    "\n",
    "\n",
    "role = sagemaker.get_execution_role()\n",
    "sagemaker_session = sagemaker.session.Session()\n",
    "region = sagemaker_session.boto_region_name\n",
    "default_bucket = sagemaker_session.default_bucket()\n",
    "pipeline_session = PipelineSession()\n",
    "model_package_group_name = f\"PieplineForIdentifyingHRES\""
   ]
  },
  {
   "cell_type": "code",
   "execution_count": null,
   "id": "34adb786",
   "metadata": {},
   "outputs": [],
   "source": [
    "# Feature store session configuration\n",
    "prefix = 'sagemaker-featurestore-HRES'\n",
    "offline_feature_store_bucket = f\"s3://{default_bucket}/{prefix}\"\n",
    "boto_session = boto3.Session(region_name=region)\n",
    "sagemaker_client = boto_session.client(service_name='sagemaker', region_name=region)\n",
    "featurestore_runtime = boto_session.client(service_name='sagemaker-featurestore-runtime', region_name=region)\n",
    "\n",
    "feature_store_session = sagemaker.session.Session(\n",
    "    boto_session=boto_session,\n",
    "    sagemaker_client=sagemaker_client,\n",
    "    sagemaker_featurestore_runtime_client=featurestore_runtime\n",
    ")"
   ]
  },
  {
   "cell_type": "code",
   "execution_count": null,
   "id": "9552bd65",
   "metadata": {},
   "outputs": [],
   "source": [
    "# # Local Setting\n",
    "# from sagemaker.local import LocalSession\n",
    "\n",
    "# from sagemaker.workflow.pipeline_context import LocalPipelineSession\n",
    "\n",
    "# role = 'arn:aws:iam::111111111111:role/service-role/AmazonSageMaker-ExecutionRole-20200101T000001'\n",
    "# sagemaker_session = LocalSession()\n",
    "# sagemaker_session.config = {'local': {'local_code': True}}\n",
    "# pipeline_session = LocalPipelineSession()\n",
    "# region = \"us-west-2\"\n",
    "# default_bucket = \"./sagemaker_local_output\"\n",
    "# model_package_group_name = \"PipelineForIdentifyingHybridRenewableEnergyStation\""
   ]
  },
  {
   "cell_type": "code",
   "execution_count": null,
   "id": "a7be1cbb",
   "metadata": {},
   "outputs": [],
   "source": [
    "# Parameters for Pipeline Configuration\n",
    "\n",
    "from sagemaker.workflow.parameters import ParameterInteger, ParameterString, ParameterFloat\n",
    "\n",
    "\n",
    "processing_instance_count = ParameterInteger(name=\"ProcessingInstanceCount\", default_value=1)\n",
    "instance_type = ParameterString(name=\"TrainingInstanceType\", default_value=\"ml.t3.medium\") \n",
    "model_approval_status = ParameterString(name='ModelApprovalStatus', default_value=\"PendingManualApproval\")\n",
    "\n",
    "mse_threshold = ParameterFloat(name='MseThreshold', default_value=50.0)"
   ]
  },
  {
   "cell_type": "code",
   "execution_count": null,
   "id": "60d64e60",
   "metadata": {},
   "outputs": [],
   "source": [
    "# Processor Configuration\n",
    "\n",
    "from sagemaker.processing import ProcessingInput, ProcessingOutput\n",
    "from sagemaker.sklearn.processing import SKLearnProcessor\n",
    "\n",
    "\n",
    "framework_version = \"1.2-1\"\n",
    "sklearn_processor = SKLearnProcessor(\n",
    "    framework_version=framework_version,\n",
    "    role=role,\n",
    "    instance_type=instance_type,\n",
    "    instance_count=processing_instance_count,\n",
    "    base_job_name=\"sklearn-HRES-process\",\n",
    "    sagemaker_session=pipeline_session,\n",
    "    \n",
    ")"
   ]
  },
  {
   "cell_type": "code",
   "execution_count": null,
   "id": "775ff5d5",
   "metadata": {},
   "outputs": [],
   "source": [
    "# Data Collection Pipeline\n",
    "\n",
    "from sagemaker.workflow.steps import ProcessingStep\n",
    "\n",
    "\n",
    "data_collection_step = ProcessingStep(\n",
    "    name=\"DataCollectionStep\",\n",
    "    processor=sklearn_processor,\n",
    "    inputs=[],\n",
    "    outputs=[\n",
    "        ProcessingOutput(output_name='collected_data', source=\"/opt/ml/processing/output\")\n",
    "    ],\n",
    "    code='code/data_collection_script.py'\n",
    ")"
   ]
  },
  {
   "cell_type": "code",
   "execution_count": null,
   "id": "3785f355",
   "metadata": {},
   "outputs": [],
   "source": [
    "# Data Preprocessing Pipeline\n",
    "\n",
    "processing_step = ProcessingStep(\n",
    "    name='HRESProcess',\n",
    "    processor=sklearn_processor,\n",
    "    inputs=[\n",
    "        ProcessingInput(\n",
    "            source=data_collection_step.properties.ProcessingOutputConfig.Outputs['collected_data'].S3Output.S3Uri,\n",
    "            destination='/opt/ml/processing/input'\n",
    "        )\n",
    "    ],\n",
    "    outputs=[\n",
    "        ProcessingOutput(output_name='train', source='/opt/ml/processing/train'),\n",
    "        ProcessingOutput(output_name='validation', source='/opt/ml/processing/validation'),\n",
    "        ProcessingOutput(output_name='test', source='/opt/ml/processing/test'),\n",
    "    ],\n",
    "    code='code/preprocessing.py'\n",
    "    \n",
    ")"
   ]
  },
  {
   "cell_type": "code",
   "execution_count": null,
   "id": "4ad99ff5",
   "metadata": {},
   "outputs": [],
   "source": [
    "# Training & HyperParameter Pipeline\n",
    "\n",
    "from sagemaker.estimator import Estimator\n",
    "from sagemaker.inputs import TrainingInput\n",
    "from sagemaker.tuner import HyperparameterTuner, ContinuousParameter, IntegerParameter\n",
    "from sagemaker.workflow.steps import TuningStep\n",
    "\n",
    "model_path = f's3://{default_bucket}/HRESTrain'\n",
    "# model_path = f'{default_bucket}/HRESTrain' # TODO\n",
    "\n",
    "\n",
    "image_uri = sagemaker.image_uris.retrieve(\n",
    "    framework='xgboost',\n",
    "    region=region,\n",
    "    version='1.0-1',\n",
    "    py_version='py3',\n",
    "    instance_type='ml.m5.xlarge',\n",
    ")\n",
    "\n",
    "xgb_train = Estimator(\n",
    "    image_uri=image_uri,\n",
    "    instance_type=instance_type,\n",
    "    instance_count=1,\n",
    "    output_path=model_path,\n",
    "    base_job_name=\"xgb-HRES-train\",\n",
    "    role=role,\n",
    "    sagemaker_session=pipeline_session,\n",
    ")\n",
    "\n",
    "xgb_train.set_hyperparameters(\n",
    "    eval_metric=\"rmse\",\n",
    "    objective=\"reg:squarederror\",\n",
    "    num_round=50,\n",
    "    max_depth=5,\n",
    "    eta=0.2,\n",
    "    gamma=4,\n",
    "    min_child_weight=6,\n",
    "    subsample=0.7,\n",
    "    silent=0,\n",
    ")\n",
    "\n",
    "hyperparameter_ranges ={\n",
    "    \"eta\": ContinuousParameter(0.01, 0.5),\n",
    "    \"subsample\": ContinuousParameter(0.1, 0.9),\n",
    "    \"alpha\": ContinuousParameter(0, 2),\n",
    "    \"gamma\": IntegerParameter(1, 10),\n",
    "    \"min_child_weight\": IntegerParameter(1, 10),\n",
    "    \"max_depth\": IntegerParameter(1, 10),\n",
    "    \"num_round\": IntegerParameter(10, 100),\n",
    "}\n",
    "\n",
    "tuner = HyperparameterTuner(\n",
    "    estimator=xgb_train,\n",
    "    objective_metric_name='validation:rmse',\n",
    "    hyperparameter_ranges=hyperparameter_ranges,\n",
    "    metric_definitions=[{\"Name\": \"validation:rmse\", \"Regex\": \"validation-rmse:(.*?);\"}],\n",
    "    max_jobs=3, \n",
    "    max_parallel_jobs=3, \n",
    "    objective_type=\"Minimize\"\n",
    ")\n",
    "\n",
    "hpo_args = tuner.fit(\n",
    "    inputs={\n",
    "        \"train\": TrainingInput(\n",
    "            s3_data=processing_step.properties.ProcessingOutputConfig.Outputs[\"train\"].S3Output.S3Uri,\n",
    "            content_type=\"text/csv\",\n",
    "        ),\n",
    "        \"validation\": TrainingInput(\n",
    "            s3_data=processing_step.properties.ProcessingOutputConfig.Outputs[\n",
    "                \"validation\"\n",
    "            ].S3Output.S3Uri,\n",
    "            content_type=\"text/csv\",\n",
    "        ),\n",
    "    }\n",
    ")\n",
    "\n",
    "training_step = TuningStep(\n",
    "    name='HRESTrainWithHyperParameterTuning',\n",
    "    step_args=hpo_args,\n",
    ")\n",
    "\n"
   ]
  },
  {
   "cell_type": "code",
   "execution_count": null,
   "id": "50a20750",
   "metadata": {},
   "outputs": [],
   "source": [
    "# Validation Pipeline\n",
    "from sagemaker.processing import ScriptProcessor\n",
    "from sagemaker.workflow.properties import PropertyFile\n",
    "\n",
    "script_eval = ScriptProcessor(\n",
    "    image_uri=image_uri,\n",
    "    command=['python3'],\n",
    "    instance_type='ml.m5.xlarge',\n",
    "    instance_count=1,\n",
    "    base_job_name='script-HRES-eval',\n",
    "    role=role,\n",
    "    sagemaker_session=pipeline_session\n",
    ")\n",
    "\n",
    "eval_args = script_eval.run(\n",
    "\n",
    "    inputs=[\n",
    "        ProcessingInput(\n",
    "            source=training_step.get_top_model_s3_uri(top_k=0, s3_bucket=default_bucket),\n",
    "            destination='/opt/ml/preocessing/model',\n",
    "        ),\n",
    "        ProcessingInput(\n",
    "            source=training_step.get_top_model_s3_uri(top_k=0, s3_bucket=default_bucket),\n",
    "            destination='/opt/ml/processing/test',\n",
    "        ),\n",
    "    ],\n",
    "    outputs=[\n",
    "        ProcessingOutput(output_name='evaluation', source='opt/ml/processing/evaluation'),\n",
    "    ],\n",
    "    code=\"code/evaluation.py\",\n",
    "\n",
    ")\n",
    "evaluation_report = PropertyFile(name='EvaluationReport', output_name='evaluation', path='evaluation.json')\n",
    "evaluation_step = ProcessingStep(\n",
    "    name='HRESEval',\n",
    "    step_args=eval_args,\n",
    "    property_files=[evaluation_report],\n",
    ")\n",
    "    \n",
    "        "
   ]
  },
  {
   "cell_type": "code",
   "execution_count": null,
   "id": "e685e594",
   "metadata": {},
   "outputs": [],
   "source": [
    "# Model Step\n",
    "\n",
    "from sagemaker.model import Model\n",
    "from sagemaker.workflow.model_step import ModelStep\n",
    "from sagemaker.model_metrics import MetricsSource, ModelMetrics\n",
    "\n",
    "model_metrics = ModelMetrics(\n",
    "    model_statistics=MetricsSource(\n",
    "        s3_uri='{}/evaluation.json'.format(\n",
    "            evaluation_step.arguments['ProcessingOutputConfig']['Outputs'][0]['S3Output']['S3Uri']\n",
    "        ),\n",
    "        content_type='application/json',\n",
    "    )\n",
    ")\n",
    "\n",
    "\n",
    "model = Model(\n",
    "    image_uri=image_uri,\n",
    "    model_data=training_step.get_top_model_s3_uri(top_k=0, s3_bucket=default_bucket),\n",
    "    sagemaker_session=pipeline_session,\n",
    "    role=role\n",
    ")\n",
    "register_model_step_args = model.register(\n",
    "    content_types=['application/json'],\n",
    "    response_types=['application/json'],\n",
    "    inference_instances=['ml.t2.medium', 'ml.m5.xlarge'],\n",
    "    transform_instances=['ml.m5.xlarge'],\n",
    "    model_package_group_name=model_package_group_name,\n",
    "    approval_status=model_approval_status,\n",
    "    model_metrics=model_metrics,\n",
    ")\n",
    "\n",
    "step_model_create_and_register = ModelStep(\n",
    "    name=\"HRESCreateModel\",\n",
    "    step_args=register_model_step_args\n",
    ")"
   ]
  },
  {
   "cell_type": "code",
   "execution_count": null,
   "id": "8562be0a",
   "metadata": {},
   "outputs": [],
   "source": [
    "# Fail Step\n",
    "\n",
    "from sagemaker.workflow.fail_step import FailStep\n",
    "from sagemaker.workflow.functions import Join\n",
    "\n",
    "step_fail = FailStep(\n",
    "    name=\"HRESMSEFail\",\n",
    "    error_message=Join(on=\" \", values=[\"Execution failed due to MSE >\", mse_threshold])\n",
    ")"
   ]
  },
  {
   "cell_type": "code",
   "execution_count": null,
   "id": "f2f1f421",
   "metadata": {},
   "outputs": [],
   "source": [
    "# Conditional Step\n",
    "\n",
    "from sagemaker.workflow.conditions import ConditionLessThanOrEqualTo\n",
    "from sagemaker.workflow.condition_step import ConditionStep\n",
    "from sagemaker.workflow.functions import JsonGet\n",
    "\n",
    "cond_lte = ConditionLessThanOrEqualTo(\n",
    "    left=JsonGet(\n",
    "        step_name=evaluation_step.name,\n",
    "        property_file=evaluation_report,\n",
    "        json_path='regression_metrics.mse.value',\n",
    "    ),\n",
    "    right=mse_threshold,\n",
    ")\n",
    "\n",
    "condition_step = ConditionStep(\n",
    "    name=\"HRESMSECond\",\n",
    "    conditions=[cond_lte],\n",
    "    if_steps=[step_model_create_and_register],\n",
    "    else_steps=[step_fail],\n",
    ")"
   ]
  },
  {
   "cell_type": "code",
   "execution_count": null,
   "id": "d719cd13",
   "metadata": {},
   "outputs": [],
   "source": [
    "# Defining Pipeline\n",
    "from sagemaker.workflow.pipeline import Pipeline\n",
    "\n",
    "pipeline_name = f\"HRESPipeline\"\n",
    "\n",
    "pipeline = Pipeline(\n",
    "    name=pipeline_name,\n",
    "    parameters=[\n",
    "        processing_instance_count,\n",
    "        instance_type,\n",
    "        model_approval_status,\n",
    "        mse_threshold\n",
    "    ],\n",
    "    steps=[data_collection_step, processing_step, training_step, evaluation_step, condition_step],\n",
    ")"
   ]
  },
  {
   "cell_type": "code",
   "execution_count": null,
   "id": "a00f0dd4",
   "metadata": {},
   "outputs": [],
   "source": [
    "import json\n",
    "\n",
    "pipeline_definition = json.loads(pipeline.definition())\n",
    "pipeline_definition"
   ]
  },
  {
   "cell_type": "code",
   "execution_count": null,
   "id": "0a6ec235",
   "metadata": {},
   "outputs": [],
   "source": [
    "pipeline.upsert(role_arn=role)\n",
    "#pipeline.create()"
   ]
  },
  {
   "cell_type": "code",
   "execution_count": null,
   "id": "43cad0ca",
   "metadata": {},
   "outputs": [],
   "source": [
    "execution = pipeline.start()"
   ]
  },
  {
   "cell_type": "code",
   "execution_count": null,
   "id": "062ba8f2",
   "metadata": {},
   "outputs": [],
   "source": [
    "pipeline.describe()"
   ]
  },
  {
   "cell_type": "code",
   "execution_count": null,
   "id": "7a71d58d",
   "metadata": {},
   "outputs": [],
   "source": [
    "execution.list_steps()"
   ]
  },
  {
   "cell_type": "code",
   "execution_count": null,
   "id": "fa3ada4d",
   "metadata": {},
   "outputs": [],
   "source": [
    "from pprint import pprint\n",
    "\n",
    "\n",
    "evaluation_json = sagemaker.s3.S3Downloader.read_file(\n",
    "    \"{}/evaluation.json\".format(\n",
    "        evaluation_step.arguments[\"ProcessingOutputConfig\"][\"Outputs\"][0][\"S3Output\"][\"S3Uri\"]\n",
    "    )\n",
    ")\n",
    "pprint(json.loads(evaluation_json))"
   ]
  }
 ],
 "metadata": {
  "kernelspec": {
   "display_name": "Python 3 (ipykernel)",
   "language": "python",
   "name": "python3"
  },
  "language_info": {
   "codemirror_mode": {
    "name": "ipython",
    "version": 3
   },
   "file_extension": ".py",
   "mimetype": "text/x-python",
   "name": "python",
   "nbconvert_exporter": "python",
   "pygments_lexer": "ipython3",
   "version": "3.10.1"
  }
 },
 "nbformat": 4,
 "nbformat_minor": 5
}
